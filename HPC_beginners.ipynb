{
 "cells": [
  {
   "cell_type": "markdown",
   "metadata": {
    "slideshow": {
     "slide_type": "slide"
    }
   },
   "source": [
    "# HPC Tutorial for beginners\n",
    "\n",
    "Author: Hanno Kase\n",
    "\n",
    "Date: 06.11.2019"
   ]
  },
  {
   "cell_type": "markdown",
   "metadata": {
    "slideshow": {
     "slide_type": "slide"
    }
   },
   "source": [
    "## How do I get the HPC account?"
   ]
  },
  {
   "cell_type": "markdown",
   "metadata": {
    "slideshow": {
     "slide_type": "-"
    }
   },
   "source": [
    "To access the HPC cluster, you need to request an account via [EUI Helpdesk](https://www.eui.eu/Helpdesk)."
   ]
  },
  {
   "cell_type": "markdown",
   "metadata": {
    "slideshow": {
     "slide_type": "slide"
    }
   },
   "source": [
    "## How to connect to the HPC cluster?"
   ]
  },
  {
   "cell_type": "markdown",
   "metadata": {
    "slideshow": {
     "slide_type": "-"
    }
   },
   "source": [
    "You can access the HPC cluster through **S**ecure **S**hell **P**rotocol (SSH), using any SSH client. \n",
    "\n",
    "On Linux, Windows 10, and Mac a SSH client is preinstalled and you can use it through command line (Terminal, Command Prompt, PowerShell...).\n",
    "\n",
    "***\n",
    "\n",
    "Command for using SSH: `ssh username@host`"
   ]
  },
  {
   "cell_type": "code",
   "execution_count": null,
   "metadata": {
    "slideshow": {
     "slide_type": "-"
    }
   },
   "outputs": [],
   "source": [
    "ssh hkase@hpceui.iue.private"
   ]
  },
  {
   "cell_type": "markdown",
   "metadata": {
    "slideshow": {
     "slide_type": "subslide"
    }
   },
   "source": [
    "![login](figures/login.png)"
   ]
  },
  {
   "cell_type": "markdown",
   "metadata": {
    "slideshow": {
     "slide_type": "subslide"
    }
   },
   "source": [
    "## Are you tired of typing your password?"
   ]
  },
  {
   "cell_type": "markdown",
   "metadata": {
    "slideshow": {
     "slide_type": "-"
    }
   },
   "source": [
    "To avoid typing your password every time you enter the HPC cluster you can add your **public SSH key** to `~/.ssh/authorized_keys` file on the HPC cluster."
   ]
  },
  {
   "cell_type": "markdown",
   "metadata": {
    "slideshow": {
     "slide_type": "-"
    }
   },
   "source": [
    "On Windows 10 you can find your public SSH key in: \n",
    "\n",
    "`C:\\Users\\<username>\\.ssh\\id_rsa.pub`  \n",
    "\n",
    "This is the default location, it might be somewhere else. If you don't find it, you can generate one by `ssh-keygen` command. Choose the location (default location is usually fine), choose a password (or leave it empty)."
   ]
  },
  {
   "cell_type": "markdown",
   "metadata": {
    "slideshow": {
     "slide_type": "slide"
    }
   },
   "source": [
    "## Some essential Linux commands"
   ]
  },
  {
   "cell_type": "code",
   "execution_count": 2,
   "metadata": {
    "slideshow": {
     "slide_type": "notes"
    }
   },
   "outputs": [
    {
     "data": {
      "text/html": [
       "<style> \n",
       "table td, table th, table tr {text-align:left !important; font-size:20px !important;}\n",
       "</style>\n"
      ],
      "text/plain": [
       "<IPython.core.display.HTML object>"
      ]
     },
     "metadata": {},
     "output_type": "display_data"
    }
   ],
   "source": [
    "%%html\n",
    "<style> \n",
    "table td, table th, table tr {text-align:left !important; font-size:20px !important;}\n",
    "</style>"
   ]
  },
  {
   "cell_type": "markdown",
   "metadata": {
    "slideshow": {
     "slide_type": "-"
    }
   },
   "source": [
    "<table align=\"center\">\n",
    "  <thead>\n",
    "    <tr>\n",
    "      <th>Command</th>\n",
    "      <th>What does it do?</th>\n",
    "    </tr>\n",
    "  </thead>\n",
    "  <tbody>\n",
    "    <tr>\n",
    "      <td><code>man [COMMAND]</code></td>\n",
    "      <td>Manual page for [COMMAND]</td>\n",
    "    </tr>\n",
    "    <tr>\n",
    "      <td><code>passwd</code></td>\n",
    "      <td>Change your password</td>\n",
    "    </tr>\n",
    "    <tr>\n",
    "      <td><code>pwd</code></td>\n",
    "      <td>Current working directory</td>\n",
    "    </tr>\n",
    "    <tr>\n",
    "      <td><code>cd [FOLDER]</code></td>\n",
    "      <td>Change directory to [FOLDER]</td>\n",
    "    </tr>\n",
    "    <tr>\n",
    "      <td><code>cd ..</code></td>\n",
    "      <td>Move to parent directory</td>\n",
    "    </tr>\n",
    "    <tr>\n",
    "      <td><code>cd ~</code></td>\n",
    "      <td>Change directory to home directory</td>\n",
    "    </tr>\n",
    "    <tr>\n",
    "      <td><code>ls</code></td>\n",
    "      <td>List files in the folder</td>\n",
    "    </tr>\n",
    "    <tr>\n",
    "      <td><code>mv [SOURCE] [DESTINATION] </code></td>\n",
    "      <td>Move or rename files</td>\n",
    "    </tr>\n",
    "    <tr>\n",
    "      <td><code>cp [SOURCE] [DESTINATION] </code></td>\n",
    "      <td>Copy files</td>\n",
    "    </tr>\n",
    "    <tr>\n",
    "      <td><code>rm [FILE] </code></td>\n",
    "      <td>Delete file</td>\n",
    "    </tr>\n",
    "    <tr>\n",
    "      <td><code>rm -r [FOLDER] </code></td>\n",
    "      <td>Recursively delete the folder and all files in it</td>\n",
    "    </tr>  \n",
    "    <tr>\n",
    "      <td><code>nano [FILE]</code></td>\n",
    "      <td>Open text editor (nano)</td>\n",
    "    </tr>  \n",
    "  </tbody>\n",
    "</table>"
   ]
  },
  {
   "cell_type": "markdown",
   "metadata": {
    "slideshow": {
     "slide_type": "slide"
    }
   },
   "source": [
    "## How to transfer files to the HPC cluster\n",
    "\n",
    "-  Command Line\n",
    "    -  SFTP\n",
    "    -  SCP\n",
    "-  Graphic User Interface\n",
    "    -  Using a SFTP client ([FileZilla](https://filezilla-project.org/), [WinSCP](https://winscp.net/eng/index.php))\n",
    "    -  Map a network drive   \n",
    "        -  Bit tricky on Windows 10 (I used [WinFsp](https://github.com/billziss-gh/winfsp/releases) and [SSHFS-Win](https://github.com/billziss-gh/sshfs-win/releases))"
   ]
  },
  {
   "cell_type": "markdown",
   "metadata": {
    "slideshow": {
     "slide_type": "slide"
    }
   },
   "source": [
    "## Transfering files - Command Line: SFTP\n",
    "\n",
    "Interactive command, that opens a connection for submiting several commands for transfering files.\n",
    "\n",
    "Command for opening SFTP connection: `sftp username@hpceui.iue.private`"
   ]
  },
  {
   "cell_type": "code",
   "execution_count": null,
   "metadata": {
    "slideshow": {
     "slide_type": "-"
    }
   },
   "outputs": [],
   "source": [
    "sftp hkase@hpceui.iue.private"
   ]
  },
  {
   "cell_type": "markdown",
   "metadata": {
    "slideshow": {
     "slide_type": "-"
    }
   },
   "source": [
    "Move around the local or remote machine, and transfer files using following commands.\n",
    "\n",
    "<table align=\"center\">\n",
    "  <thead>\n",
    "    <tr>\n",
    "      <th>Command</th>\n",
    "      <th>What does it do?</th>\n",
    "    </tr>\n",
    "  </thead>\n",
    "  <tbody>\n",
    "    <tr>\n",
    "      <td><code>cd</code></td>\n",
    "      <td>Change the active directory on REMOTE machine</td>\n",
    "    </tr>\n",
    "    <tr>\n",
    "      <td><code>lcd</code></td>\n",
    "      <td>Change the active directory on LOCAL machine</td>\n",
    "    </tr>\n",
    "    <tr>\n",
    "      <td><code>ls</code></td>\n",
    "      <td>List files in the active folder on REMOTE machine</td>\n",
    "    </tr>\n",
    "    <tr>\n",
    "      <td><code>lls</code></td>\n",
    "      <td>List files in the active folder on LOCAL machine</td>\n",
    "    </tr>\n",
    "    <tr>\n",
    "      <td><code>rm</code></td>\n",
    "        <td>Remove files on REMOTE machine (there is no <code>lrm</code>)</td>\n",
    "    </tr>\n",
    "    <tr>\n",
    "      <td><code>mv</code></td>\n",
    "        <td>Move files on REMOTE machine (there is no <code>lmv</code>)</td>\n",
    "    </tr>\n",
    "    <tr>\n",
    "      <td><code>cp</code></td>\n",
    "        <td>Copy files on REMOTE machine (there is no <code>lcp</code>)</td>\n",
    "    </tr>\n",
    "    <tr>\n",
    "      <td><code>put [FILE] </code></td>\n",
    "      <td>Put a file from the LOCAL machine to the REMOTE machine</td>\n",
    "    </tr>\n",
    "    <tr>\n",
    "      <td><code>get [FILE] </code></td>\n",
    "      <td>Get a file from the REMOTE machine to the LOCAL machine</td>\n",
    "    </tr>\n",
    "  </tbody>\n",
    "</table>\n",
    "\n",
    " To close the connection by typing `exit` or pressing <kbd>CTRL</kbd>+<kbd>C</kbd>."
   ]
  },
  {
   "cell_type": "markdown",
   "metadata": {
    "slideshow": {
     "slide_type": "subslide"
    }
   },
   "source": [
    "### SFTP Example"
   ]
  },
  {
   "cell_type": "code",
   "execution_count": null,
   "metadata": {
    "slideshow": {
     "slide_type": "-"
    }
   },
   "outputs": [],
   "source": [
    "sftp hkase@hpceui.iue.private"
   ]
  },
  {
   "cell_type": "markdown",
   "metadata": {
    "slideshow": {
     "slide_type": "-"
    }
   },
   "source": [
    "Let's try to transfer `data.csv` file from local machine to the remote machine."
   ]
  },
  {
   "cell_type": "code",
   "execution_count": null,
   "metadata": {
    "slideshow": {
     "slide_type": "-"
    }
   },
   "outputs": [],
   "source": [
    "put data.csv "
   ]
  },
  {
   "cell_type": "markdown",
   "metadata": {
    "slideshow": {
     "slide_type": "-"
    }
   },
   "source": [
    "The file `data.csv` from the active directory on our local machine got transfered to the active directory on the remote machine. We can transfer "
   ]
  },
  {
   "cell_type": "markdown",
   "metadata": {
    "slideshow": {
     "slide_type": "slide"
    }
   },
   "source": [
    "## Transfering files - Command Line: SCP\n",
    "Non-interactive command. Takes only one command and then exits.\n",
    "\n",
    "Command for using SCP:  `SCP [SOURCE] username@hpceui.iue.private:[TARGET]`"
   ]
  },
  {
   "cell_type": "code",
   "execution_count": null,
   "metadata": {
    "slideshow": {
     "slide_type": "-"
    }
   },
   "outputs": [],
   "source": [
    "scp file1.txt file2.txt hkase@hpceui.iue.private:~/destination_folder"
   ]
  },
  {
   "cell_type": "markdown",
   "metadata": {
    "slideshow": {
     "slide_type": "-"
    }
   },
   "source": [
    "For faster file transfer, we can use compression `-C`. "
   ]
  },
  {
   "cell_type": "code",
   "execution_count": null,
   "metadata": {
    "slideshow": {
     "slide_type": "-"
    }
   },
   "outputs": [],
   "source": [
    "scp -C file.csv hkase@hpceui.iue.private:~/Data/file_rename.csv"
   ]
  },
  {
   "cell_type": "markdown",
   "metadata": {
    "slideshow": {
     "slide_type": "-"
    }
   },
   "source": [
    "Add `-r` flag to move the whole folder"
   ]
  },
  {
   "cell_type": "code",
   "execution_count": null,
   "metadata": {
    "slideshow": {
     "slide_type": "-"
    }
   },
   "outputs": [],
   "source": [
    "scp -r Folder hkase@hpceui.iue.private:~/Folder"
   ]
  },
  {
   "cell_type": "markdown",
   "metadata": {
    "slideshow": {
     "slide_type": "slide"
    }
   },
   "source": [
    "## Transfering files - GUI: WinSCP\n",
    "Free software for Windows 10.  \n",
    "![WinSCP](figures/WinSCP.png)"
   ]
  },
  {
   "cell_type": "markdown",
   "metadata": {
    "slideshow": {
     "slide_type": "subslide"
    }
   },
   "source": [
    "![WinSCP_transfer](figures/WinSCP_transfer.png)"
   ]
  },
  {
   "cell_type": "markdown",
   "metadata": {
    "slideshow": {
     "slide_type": "slide"
    }
   },
   "source": [
    "## Transfering files - GUI: FileZilla\n",
    "Free software available for Linux, Mac, Windows 10.  \n",
    "Careful when installing it. You probably don't need or want the included Avast Antivirus.\n",
    "![FileZilla](figures/FileZilla.png)"
   ]
  },
  {
   "cell_type": "markdown",
   "metadata": {
    "slideshow": {
     "slide_type": "subslide"
    }
   },
   "source": [
    "![FileZilla_transfer](figures/Filezilla_transfer.png)"
   ]
  },
  {
   "cell_type": "markdown",
   "metadata": {
    "slideshow": {
     "slide_type": "slide"
    }
   },
   "source": [
    "### Transfering files - Map a network drive\n",
    "\n",
    "**Windows 10** \n",
    "-  Install [WinFsp](https://github.com/billziss-gh/winfsp/releases) and [SSHFS-Win](https://github.com/billziss-gh/sshfs-win/releases). Look for *latest release* tag and *.msi* files.\n",
    "-  Map a network drive `sshfs//<username>@hpceui.iue.private`\n",
    "\n",
    "**Linux - Ubuntu 18.04**  \n",
    "-  Add remote location `sftp://<username>@hpceui.iue.private/`"
   ]
  },
  {
   "cell_type": "markdown",
   "metadata": {
    "slideshow": {
     "slide_type": "subslide"
    }
   },
   "source": [
    "![Win10_map_drive](figures/Win10_map_drive.png)"
   ]
  },
  {
   "cell_type": "markdown",
   "metadata": {
    "slideshow": {
     "slide_type": "slide"
    }
   },
   "source": [
    "## How do I actually use the cluster?\n",
    "\n",
    "The most common use of the cluster is to submit a **batch job**. For this we will need to specify for the scheduler what kind of resources we need and what program we would like to run. Then we enter the job into the queue. When there are available resources, it will get executed.\n",
    " \n",
    "We will now create a script `pbs_script`, that contains the following:  \n",
    "1. Submit information\n",
    "2. Resource request\n",
    "3. Job details"
   ]
  },
  {
   "cell_type": "markdown",
   "metadata": {
    "slideshow": {
     "slide_type": "subslide"
    }
   },
   "source": [
    "### Script for running Julia code"
   ]
  },
  {
   "cell_type": "code",
   "execution_count": null,
   "metadata": {
    "slideshow": {
     "slide_type": "-"
    }
   },
   "outputs": [],
   "source": [
    "#!/bin/bash\n",
    "\n",
    "# 1. Submit infromation\n",
    "#PBS -N Julia          # Name of the job (not required)\n",
    "#PBS -V                # Pass the submit environment variables to the job\n",
    "\n",
    "# 2. Resource request\n",
    "#PBS -q qmw36                # Name of the queue\n",
    "#PBS -l walltime=12:00:00    # Requested time (HH:MM:SS)\n",
    "#PBS -l select=1:ncpus=36    # Number of nodes and cores\n",
    "\n",
    "# 3. Job details\n",
    "cd $PBS_O_WORKDIR                   # Go to the working directory\n",
    "source /apps/Gnu_var_4.9.4.sh       # Execute Gnu_var_4.9.4.sh\n",
    "export PATH=/opt/pkgs/julia:$PATH   # Add Julia to the PATH environment variable\n",
    "\n",
    "# Run the program\n",
    "julia sphere.jl > Julia_simulation.out\n",
    "\n",
    "echo \"Job completed!\"\n",
    "exit"
   ]
  },
  {
   "cell_type": "markdown",
   "metadata": {
    "slideshow": {
     "slide_type": "subslide"
    }
   },
   "source": [
    "### Script for running MatLab code"
   ]
  },
  {
   "cell_type": "code",
   "execution_count": null,
   "metadata": {
    "slideshow": {
     "slide_type": "-"
    }
   },
   "outputs": [],
   "source": [
    "#!/bin/bash\n",
    "\n",
    "# 1. Submit infromation\n",
    "#PBS -N MatLab        # Name of the job (not required)\n",
    "#PBS -V                # Pass the submit environment variables to the job\n",
    "\n",
    "# 2. Resource request\n",
    "#PBS -q qmw36                # Name of the queue\n",
    "#PBS -l walltime=12:00:00    # Requested time (HH:MM:SS)\n",
    "#PBS -l select=1:ncpus=36    # Number of nodes and cores\n",
    "\n",
    "# 3. Job details\n",
    "cd $PBS_O_WORKDIR                   # Go to the working directory\n",
    "\n",
    "# Run the program\n",
    "\n",
    "\n",
    "echo \"Job completed!\"\n",
    "exit"
   ]
  },
  {
   "cell_type": "code",
   "execution_count": null,
   "metadata": {
    "slideshow": {
     "slide_type": "-"
    }
   },
   "outputs": [],
   "source": []
  },
  {
   "cell_type": "markdown",
   "metadata": {
    "slideshow": {
     "slide_type": "subslide"
    }
   },
   "source": [
    "### Script for running FORTRAN code"
   ]
  },
  {
   "cell_type": "code",
   "execution_count": null,
   "metadata": {
    "slideshow": {
     "slide_type": "-"
    }
   },
   "outputs": [],
   "source": []
  },
  {
   "cell_type": "markdown",
   "metadata": {
    "slideshow": {
     "slide_type": "subslide"
    }
   },
   "source": [
    "### Script for running Python code"
   ]
  },
  {
   "cell_type": "code",
   "execution_count": null,
   "metadata": {
    "slideshow": {
     "slide_type": "-"
    }
   },
   "outputs": [],
   "source": []
  },
  {
   "cell_type": "markdown",
   "metadata": {},
   "source": [
    "### Script for running STATA code"
   ]
  },
  {
   "cell_type": "code",
   "execution_count": null,
   "metadata": {},
   "outputs": [],
   "source": []
  },
  {
   "cell_type": "markdown",
   "metadata": {},
   "source": [
    "### Script for running R code"
   ]
  },
  {
   "cell_type": "code",
   "execution_count": null,
   "metadata": {},
   "outputs": [],
   "source": []
  },
  {
   "cell_type": "markdown",
   "metadata": {
    "slideshow": {
     "slide_type": "slide"
    }
   },
   "source": [
    "## How do I know which queue should I choose?\n",
    "\n"
   ]
  },
  {
   "cell_type": "code",
   "execution_count": null,
   "metadata": {
    "slideshow": {
     "slide_type": "-"
    }
   },
   "outputs": [],
   "source": []
  }
 ],
 "metadata": {
  "celltoolbar": "Slideshow",
  "kernelspec": {
   "display_name": "PowerShell",
   "language": "powershell",
   "name": "powershell"
  },
  "language_info": {
   "codemirror_mode": "shell",
   "file_extension": ".ps1",
   "mimetype": "text/x-sh",
   "name": "powershell"
  }
 },
 "nbformat": 4,
 "nbformat_minor": 4
}

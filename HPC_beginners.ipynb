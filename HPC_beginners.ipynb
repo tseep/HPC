{
 "cells": [
  {
   "cell_type": "code",
   "execution_count": null,
   "metadata": {
    "slideshow": {
     "slide_type": "notes"
    }
   },
   "outputs": [],
   "source": [
    "Render using command line:\n",
    "jupyter nbconvert HPC_beginners.ipynb --to slides --SlidesExporter.reveal_scroll=True --no-prompt --output-dir=docs --output=index "
   ]
  },
  {
   "cell_type": "markdown",
   "metadata": {
    "slideshow": {
     "slide_type": "slide"
    }
   },
   "source": [
    "# HPC Workshop for Beginners\n",
    "\n",
    "Author: Hanno Kase\n",
    "\n",
    "Date: 06.11.2019"
   ]
  },
  {
   "cell_type": "markdown",
   "metadata": {},
   "source": [
    "### You can find the slides in www.hannokase.com/HPC/"
   ]
  },
  {
   "cell_type": "markdown",
   "metadata": {
    "slideshow": {
     "slide_type": "slide"
    }
   },
   "source": [
    "## How do I get the HPC account?"
   ]
  },
  {
   "cell_type": "markdown",
   "metadata": {
    "slideshow": {
     "slide_type": "-"
    }
   },
   "source": [
    "To access the HPC cluster, you need to request an account via [EUI Helpdesk](https://www.eui.eu/Helpdesk)."
   ]
  },
  {
   "cell_type": "markdown",
   "metadata": {
    "slideshow": {
     "slide_type": "-"
    }
   },
   "source": [
    "For this workshop, we have created you **test accounts**:  \n",
    "\n",
    "User name: **cmatlab01**-**cmatlab16**  \n",
    "Password: "
   ]
  },
  {
   "cell_type": "markdown",
   "metadata": {
    "slideshow": {
     "slide_type": "slide"
    }
   },
   "source": [
    "## How to connect to the HPC cluster?"
   ]
  },
  {
   "cell_type": "markdown",
   "metadata": {
    "slideshow": {
     "slide_type": "-"
    }
   },
   "source": [
    "You can access the HPC cluster through **S**ecure **Sh**ell Protocol (SSH), using any SSH client. \n",
    "\n",
    "On Linux, Windows 10, and Mac a SSH client is preinstalled and you can use it through command line (Terminal, Command Prompt, PowerShell).\n",
    "\n",
    "***\n",
    "\n",
    "Command for using SSH: `ssh username@host`"
   ]
  },
  {
   "cell_type": "code",
   "execution_count": null,
   "metadata": {
    "scrolled": false,
    "slideshow": {
     "slide_type": "-"
    }
   },
   "outputs": [],
   "source": [
    "ssh hkase@hpceui.iue.private"
   ]
  },
  {
   "cell_type": "markdown",
   "metadata": {
    "slideshow": {
     "slide_type": "subslide"
    }
   },
   "source": [
    "![login](figures/login.png)"
   ]
  },
  {
   "cell_type": "markdown",
   "metadata": {
    "slideshow": {
     "slide_type": "subslide"
    }
   },
   "source": [
    "## Are you tired of typing your password?"
   ]
  },
  {
   "cell_type": "markdown",
   "metadata": {
    "slideshow": {
     "slide_type": "-"
    }
   },
   "source": [
    "To avoid typing your password every time you enter the HPC cluster you can add your **public SSH key** to `~/.ssh/authorized_keys` file on the HPC cluster."
   ]
  },
  {
   "cell_type": "markdown",
   "metadata": {
    "slideshow": {
     "slide_type": "-"
    }
   },
   "source": [
    "On Windows 10 you can find your public SSH key in: \n",
    "\n",
    "`C:\\Users\\<username>\\.ssh\\id_rsa.pub`  \n",
    "\n",
    "This is the default location, it might be somewhere else. If you don't find it, you can generate one by `ssh-keygen` command. Choose the location (default location is usually fine), choose a password (or leave it empty)."
   ]
  },
  {
   "cell_type": "markdown",
   "metadata": {
    "slideshow": {
     "slide_type": "slide"
    }
   },
   "source": [
    "## Some essential Linux commands"
   ]
  },
  {
   "cell_type": "markdown",
   "metadata": {
    "slideshow": {
     "slide_type": "-"
    }
   },
   "source": [
    "<table align=\"center\">\n",
    "  <thead>\n",
    "    <tr>\n",
    "      <th>Command</th>\n",
    "      <th>What does it do?</th>\n",
    "    </tr>\n",
    "  </thead>\n",
    "  <tbody>\n",
    "    <tr>\n",
    "      <td><code>man [COMMAND]</code></td>\n",
    "      <td>Manual page for [COMMAND]</td>\n",
    "    </tr>\n",
    "    <tr>\n",
    "      <td><code>passwd</code></td>\n",
    "      <td>Change your password</td>\n",
    "    </tr>\n",
    "    <tr>\n",
    "      <td><code>pwd</code></td>\n",
    "      <td>Current working directory</td>\n",
    "    </tr>\n",
    "    <tr>\n",
    "      <td><code>cd [FOLDER]</code></td>\n",
    "      <td>Change directory to [FOLDER]</td>\n",
    "    </tr>\n",
    "    <tr>\n",
    "      <td><code>cd ..</code></td>\n",
    "      <td>Move to parent directory</td>\n",
    "    </tr>\n",
    "    <tr>\n",
    "      <td><code>cd ~</code></td>\n",
    "      <td>Change directory to home directory</td>\n",
    "    </tr>\n",
    "    <tr>\n",
    "      <td><code>ls</code></td>\n",
    "      <td>List files in the folder</td>\n",
    "    </tr>\n",
    "    <tr>\n",
    "      <td><code>mv [SOURCE] [DESTINATION] </code></td>\n",
    "      <td>Move or rename files</td>\n",
    "    </tr>\n",
    "    <tr>\n",
    "      <td><code>cp [SOURCE] [DESTINATION] </code></td>\n",
    "      <td>Copy files</td>\n",
    "    </tr>\n",
    "    <tr>\n",
    "      <td><code>rm [FILE] </code></td>\n",
    "      <td>Delete file</td>\n",
    "    </tr>\n",
    "    <tr>\n",
    "      <td><code>mkdir [FOLDER]</code></td>\n",
    "        <td>Make a directory named [FOLDER]</td>\n",
    "    </tr>\n",
    "    <tr>\n",
    "      <td><code>rm -r [FOLDER] </code></td>\n",
    "      <td>Recursively delete the folder and all files in it</td>\n",
    "    </tr>  \n",
    "    <tr>\n",
    "      <td><code>nano [FILE]</code></td>\n",
    "      <td>Open text editor (nano)</td>\n",
    "    </tr>  \n",
    "  </tbody>\n",
    "</table>"
   ]
  },
  {
   "cell_type": "markdown",
   "metadata": {
    "slideshow": {
     "slide_type": "slide"
    }
   },
   "source": [
    "## How to transfer files to the HPC cluster"
   ]
  },
  {
   "cell_type": "markdown",
   "metadata": {
    "slideshow": {
     "slide_type": "-"
    }
   },
   "source": [
    "-  Command Line\n",
    "    -  SFTP\n",
    "    -  SCP\n",
    "-  Graphical User Interface\n",
    "    -  Using a SFTP client ([FileZilla](https://filezilla-project.org/), [WinSCP](https://winscp.net/eng/index.php))\n",
    "    -  Map a network drive*   "
   ]
  },
  {
   "cell_type": "markdown",
   "metadata": {
    "slideshow": {
     "slide_type": "-"
    }
   },
   "source": [
    "*Easy on Linux, but a bit tricky on Windows 10 and Mac\n",
    "*  Windows 10 : install [WinFsp](https://github.com/billziss-gh/winfsp/releases) and [SSHFS-Win](https://github.com/billziss-gh/sshfs-win/releases)\n",
    "*  Mac : [this](https://apple.stackexchange.com/questions/5209/how-can-i-mount-sftp-ssh-in-finder-on-os-x-snow-leopard) might be helpful"
   ]
  },
  {
   "cell_type": "markdown",
   "metadata": {
    "slideshow": {
     "slide_type": "slide"
    }
   },
   "source": [
    "## Transfering files - Command Line: SFTP"
   ]
  },
  {
   "cell_type": "markdown",
   "metadata": {
    "slideshow": {
     "slide_type": "-"
    }
   },
   "source": [
    "Interactive command, that opens a connection for submiting several commands for transfering files.\n",
    "\n",
    "Command for opening SFTP connection: `sftp username@hpceui.iue.private`"
   ]
  },
  {
   "cell_type": "code",
   "execution_count": null,
   "metadata": {
    "scrolled": false,
    "slideshow": {
     "slide_type": "-"
    }
   },
   "outputs": [],
   "source": [
    "sftp hkase@hpceui.iue.private"
   ]
  },
  {
   "cell_type": "markdown",
   "metadata": {
    "slideshow": {
     "slide_type": "subslide"
    }
   },
   "source": [
    "### SFTP interactive commands"
   ]
  },
  {
   "cell_type": "markdown",
   "metadata": {
    "slideshow": {
     "slide_type": "-"
    }
   },
   "source": [
    "<table align=\"center\">\n",
    "  <thead>\n",
    "    <tr>\n",
    "      <th>Command</th>\n",
    "      <th>What does it do?</th>\n",
    "    </tr>\n",
    "  </thead>\n",
    "  <tbody>\n",
    "    <tr>\n",
    "      <td><code>cd</code></td>\n",
    "      <td>Change the active directory on REMOTE machine</td>\n",
    "    </tr>\n",
    "    <tr>\n",
    "      <td><code>lcd</code></td>\n",
    "      <td>Change the active directory on LOCAL machine</td>\n",
    "    </tr>\n",
    "    <tr>\n",
    "      <td><code>ls</code></td>\n",
    "      <td>List files in the active folder on REMOTE machine</td>\n",
    "    </tr>\n",
    "    <tr>\n",
    "      <td><code>lls</code></td>\n",
    "      <td>List files in the active folder on LOCAL machine</td>\n",
    "    </tr>\n",
    "    <tr>\n",
    "      <td><code>rm</code></td>\n",
    "        <td>Remove files on REMOTE machine (there is no <code>lrm</code>)</td>\n",
    "    </tr>\n",
    "    <tr>\n",
    "      <td><code>mv</code></td>\n",
    "        <td>Move files on REMOTE machine (there is no <code>lmv</code>)</td>\n",
    "    </tr>\n",
    "    <tr>\n",
    "      <td><code>cp</code></td>\n",
    "        <td>Copy files on REMOTE machine (there is no <code>lcp</code>)</td>\n",
    "    </tr>\n",
    "    <tr>\n",
    "      <td><code>put [FILE] </code></td>\n",
    "      <td>Put a file from the LOCAL machine to the REMOTE machine</td>\n",
    "    </tr>\n",
    "    <tr>\n",
    "      <td><code>get [FILE] </code></td>\n",
    "      <td>Get a file from the REMOTE machine to the LOCAL machine</td>\n",
    "    </tr>\n",
    "  </tbody>\n",
    "</table>\n",
    "\n",
    " Close the connection by typing `exit` or `bye` or pressing <kbd>CTRL</kbd>+<kbd>C</kbd>."
   ]
  },
  {
   "cell_type": "markdown",
   "metadata": {
    "slideshow": {
     "slide_type": "subslide"
    }
   },
   "source": [
    "### SFTP Example"
   ]
  },
  {
   "cell_type": "code",
   "execution_count": null,
   "metadata": {
    "scrolled": false,
    "slideshow": {
     "slide_type": "-"
    }
   },
   "outputs": [],
   "source": [
    "sftp hkase@hpceui.iue.private"
   ]
  },
  {
   "cell_type": "markdown",
   "metadata": {
    "slideshow": {
     "slide_type": "-"
    }
   },
   "source": [
    "Let's try to transfer `file1.txt` file from local machine to the remote machine."
   ]
  },
  {
   "cell_type": "code",
   "execution_count": null,
   "metadata": {
    "scrolled": false,
    "slideshow": {
     "slide_type": "-"
    }
   },
   "outputs": [],
   "source": [
    "put file1.txt "
   ]
  },
  {
   "cell_type": "markdown",
   "metadata": {
    "slideshow": {
     "slide_type": "-"
    }
   },
   "source": [
    "The file `file1.txt` from the active directory on our local machine got transfered to the active directory on the remote machine."
   ]
  },
  {
   "cell_type": "markdown",
   "metadata": {
    "slideshow": {
     "slide_type": "slide"
    }
   },
   "source": [
    "## Transfering files - Command Line: SCP"
   ]
  },
  {
   "cell_type": "markdown",
   "metadata": {
    "slideshow": {
     "slide_type": "-"
    }
   },
   "source": [
    "Non-interactive command. Takes only one command and then exits.\n",
    "\n",
    "Command for using SCP:  `SCP [SOURCE] username@hpceui.iue.private:[TARGET]`"
   ]
  },
  {
   "cell_type": "code",
   "execution_count": null,
   "metadata": {
    "scrolled": false,
    "slideshow": {
     "slide_type": "-"
    }
   },
   "outputs": [],
   "source": [
    "scp file1.txt file2.txt hkase@hpceui.iue.private:~/demo"
   ]
  },
  {
   "cell_type": "markdown",
   "metadata": {
    "slideshow": {
     "slide_type": "-"
    }
   },
   "source": [
    "For faster file transfer, we can use compression `-C`."
   ]
  },
  {
   "cell_type": "code",
   "execution_count": null,
   "metadata": {
    "scrolled": false,
    "slideshow": {
     "slide_type": "-"
    }
   },
   "outputs": [],
   "source": [
    "scp -C file1.txt hkase@hpceui.iue.private:~/demo/file_rename.txt"
   ]
  },
  {
   "cell_type": "markdown",
   "metadata": {
    "slideshow": {
     "slide_type": "-"
    }
   },
   "source": [
    "Add `-r` flag to copy the whole folder."
   ]
  },
  {
   "cell_type": "code",
   "execution_count": null,
   "metadata": {
    "scrolled": false,
    "slideshow": {
     "slide_type": "-"
    }
   },
   "outputs": [],
   "source": [
    "scp -r folder hkase@hpceui.iue.private:~/new_folder"
   ]
  },
  {
   "cell_type": "markdown",
   "metadata": {
    "slideshow": {
     "slide_type": "slide"
    }
   },
   "source": [
    "## Transfering files - GUI: WinSCP\n",
    "Free software for Windows 10.  \n",
    "![WinSCP](figures/WinSCP.png)"
   ]
  },
  {
   "cell_type": "markdown",
   "metadata": {
    "slideshow": {
     "slide_type": "subslide"
    }
   },
   "source": [
    "![WinSCP_transfer](figures/WinSCP_transfer.png)"
   ]
  },
  {
   "cell_type": "markdown",
   "metadata": {
    "slideshow": {
     "slide_type": "slide"
    }
   },
   "source": [
    "## Transfering files - GUI: FileZilla\n",
    "Free software available for Linux, Mac, Windows 10.  \n",
    "Careful when installing it. You probably don't want the included Avast Antivirus."
   ]
  },
  {
   "cell_type": "markdown",
   "metadata": {
    "slideshow": {
     "slide_type": "-"
    }
   },
   "source": [
    "![FileZilla](figures/FileZilla.png)"
   ]
  },
  {
   "cell_type": "markdown",
   "metadata": {
    "slideshow": {
     "slide_type": "subslide"
    }
   },
   "source": [
    "![FileZilla_transfer](figures/Filezilla_transfer.png)"
   ]
  },
  {
   "cell_type": "markdown",
   "metadata": {
    "slideshow": {
     "slide_type": "slide"
    }
   },
   "source": [
    "## Transfering files - Map a network drive\n",
    "\n",
    "**Windows 10** \n",
    "-  Install [WinFsp](https://github.com/billziss-gh/winfsp/releases) and [SSHFS-Win](https://github.com/billziss-gh/sshfs-win/releases). Look for *latest release* tag and *.msi* files.\n",
    "-  Map a network drive `sshfs//<username>@hpceui.iue.private`\n",
    "\n",
    "**Linux - Ubuntu 18.04**  \n",
    "-  Add remote location `sftp://<username>@hpceui.iue.private/` \n",
    "\n",
    "**Mac**\n",
    "-  [This](https://apple.stackexchange.com/questions/5209/how-can-i-mount-sftp-ssh-in-finder-on-os-x-snow-leopard) might be helpful"
   ]
  },
  {
   "cell_type": "markdown",
   "metadata": {
    "slideshow": {
     "slide_type": "subslide"
    }
   },
   "source": [
    "![Win10_map_drive](figures/Win10_map_drive.png)"
   ]
  },
  {
   "cell_type": "markdown",
   "metadata": {
    "slideshow": {
     "slide_type": "slide"
    }
   },
   "source": [
    "## Queues in the HPC cluster\n",
    "\n",
    "At the heart of the cluster is a workload management system (PBS Professional); a program that allocates computational resources. \n",
    "\n",
    "You use the cluster by first asking for resources. Depending on your computational needs, you will choose from which **queue** to ask the resources from.\n",
    "\n",
    "The EUI HPC cluster is designed such that there is a direct mapping from queues to computing nodes (servers). All the resources you request are allocated within one node. For some time you will get the whole server for yourself. "
   ]
  },
  {
   "cell_type": "markdown",
   "metadata": {
    "slideshow": {
     "slide_type": "-"
    }
   },
   "source": [
    "<table align=\"center\">\n",
    "  <thead>\n",
    "    <tr>\n",
    "      <th>Queue</th>\n",
    "      <th>Slots</th>\n",
    "      <th>Nodes</th>\n",
    "      <th>CPU cores</th>\n",
    "      <th>Memory</th>\n",
    "      <th>GPU</th>  \n",
    "      <th>Walltime</th>  \n",
    "    </tr>\n",
    "  </thead>\n",
    "  <tbody>\n",
    "    <tr>\n",
    "      <td><code>qwe36</code></td>\n",
    "      <td>4</td>  \n",
    "      <td>matlabcl6-9</td>\n",
    "      <td>36</td>\n",
    "      <td>128GB</td>\n",
    "      <td>No</td>\n",
    "      <td>12h</td>  \n",
    "    </tr>  \n",
    "    <tr>\n",
    "      <td><code>qwe24</code></td>\n",
    "      <td>2</td>  \n",
    "      <td>matlabcl4-5</td>\n",
    "      <td>24</td>\n",
    "      <td>128GB</td>\n",
    "      <td>No</td>\n",
    "      <td>12h</td>  \n",
    "    </tr>\n",
    "    <tr>\n",
    "      <td><code>qwe12</code></td>\n",
    "      <td>1</td>    \n",
    "      <td>matlabcl3</td>\n",
    "      <td>12</td>\n",
    "      <td>32GB</td>\n",
    "      <td>Yes</td>\n",
    "      <td>72h</td>  \n",
    "    </tr>\n",
    "    <tr>\n",
    "      <td><code>qwe36long</code></td>\n",
    "      <td>?</td>  \n",
    "      <td>matlabcl6-9</td>\n",
    "      <td>36</td>\n",
    "      <td>128GB</td>\n",
    "      <td>No</td>\n",
    "      <td>168h</td>  \n",
    "    </tr>  \n",
    "    <tr>\n",
    "      <td><code>qwe24long</code></td>\n",
    "      <td>?</td>  \n",
    "      <td>matlabcl4-5</td>\n",
    "      <td>24</td>\n",
    "      <td>128GB</td>\n",
    "      <td>No</td>\n",
    "      <td>168h</td>  \n",
    "    </tr>    \n",
    "  </tbody>\n",
    "</table>"
   ]
  },
  {
   "cell_type": "markdown",
   "metadata": {
    "slideshow": {
     "slide_type": "slide"
    }
   },
   "source": [
    "## Which queue should I choose?\n",
    "\n",
    "`qstat -Q` or `qstat -q`to find out what kind of queues are there.\n",
    "\n",
    "`qstat` or `qstat -n1` to monitor the queues.\n",
    "\n",
    "`pbsnodes -av` to get a detailed overview of all the nodes."
   ]
  },
  {
   "cell_type": "markdown",
   "metadata": {
    "slideshow": {
     "slide_type": "slide"
    }
   },
   "source": [
    "## How to submit a batch job to the HPC cluster?\n",
    "\n",
    "The most common use of the cluster is to submit a **batch job**.  \n",
    "For this we will need to specify for the workload manager:\n",
    "1. what kind of resources we need and ...\n",
    "2. what program we would like to run. \n",
    " \n",
    "We do it all by creating a **PBS script** (like a bash script), that contains some special instructions for the workload manager.\n",
    "\n",
    "Then we submit the job into the queue using `qsub` command. When there are available resources, it will get executed."
   ]
  },
  {
   "cell_type": "markdown",
   "metadata": {
    "slideshow": {
     "slide_type": "slide"
    }
   },
   "source": [
    "### Script for running MatLab code (CPU)"
   ]
  },
  {
   "cell_type": "code",
   "execution_count": null,
   "metadata": {
    "slideshow": {
     "slide_type": "-"
    }
   },
   "outputs": [],
   "source": [
    "#!/bin/bash\n",
    "# 1. Job name\n",
    "#PBS -N MATLAB\n",
    "\n",
    "# 2. Request resources\n",
    "# set the number of nodes and processes per node\n",
    "#PBS -q qmw12\n",
    "\n",
    "# use submission environment\n",
    "#PBS -V\n",
    "\n",
    "# 3. Run the program\n",
    "# start the job from the directory it was submitted\n",
    "cd $PBS_O_WORKDIR\n",
    "\n",
    "# set some environment variables for MatLab\n",
    "source /apps/Matlab_var_R2019a.sh\n",
    "\n",
    "# Run your the matlab code\n",
    "matlab -batch \"R2019a_mod_paralleldemo_parfor_bench\" >& matlab.log"
   ]
  },
  {
   "cell_type": "markdown",
   "metadata": {
    "slideshow": {
     "slide_type": "subslide"
    }
   },
   "source": [
    "### Script for running MatLab code (GPU)"
   ]
  },
  {
   "cell_type": "code",
   "execution_count": null,
   "metadata": {
    "scrolled": true,
    "slideshow": {
     "slide_type": "-"
    }
   },
   "outputs": [],
   "source": [
    "#!/bin/bash\n",
    "# 1. Job name\n",
    "#PBS -N MATLAB\n",
    "\n",
    "# 2. Request resources\n",
    "# set the number of nodes and processes per node\n",
    "#PBS -q qmw12\n",
    "\n",
    "# use submission environment\n",
    "#PBS -V\n",
    "\n",
    "# 3. Run the program\n",
    "# start the job from the directory it was submitted\n",
    "cd $PBS_O_WORKDIR\n",
    "\n",
    "# set some environment variables for CUDA and MatLab\n",
    "source /apps/cuda-10.1.sh\n",
    "source /apps/Matlab_var_R2019a.sh\n",
    "\n",
    "# Run your the matlab code\n",
    "matlab -batch \"paralleldemo_gpu_backslash\" >& matlab_gpu.log"
   ]
  },
  {
   "cell_type": "markdown",
   "metadata": {
    "slideshow": {
     "slide_type": "subslide"
    }
   },
   "source": [
    "### Script for running Julia code"
   ]
  },
  {
   "cell_type": "code",
   "execution_count": null,
   "metadata": {
    "scrolled": false,
    "slideshow": {
     "slide_type": "-"
    }
   },
   "outputs": [],
   "source": [
    "#!/bin/bash\n",
    "\n",
    "# 1. Job name\n",
    "#PBS -N Julia\n",
    "\n",
    "# 2. Resource request\n",
    "#PBS -q qmw12 -l walltime=12:00:00,select=1:ncpus=12\n",
    "\n",
    "# use submission environment\n",
    "#PBS -V \n",
    "\n",
    "# 3. Program to run\n",
    "# start the job from the directory it was submitted\n",
    "cd $PBS_O_WORKDIR\n",
    "\n",
    "# set some environment variables for Julia\n",
    "source /apps/Gnu_var_4.9.4.sh\n",
    "export PATH=/opt/pkgs/julia-1.1.0/bin:$PATH\n",
    "\n",
    "# Run your Julia code\n",
    "export JULIA_NUM_THREADS=4\n",
    "julia -O3 -- spectralnorm.julia 5500 >& spectralnorm.julia.log"
   ]
  },
  {
   "cell_type": "markdown",
   "metadata": {
    "slideshow": {
     "slide_type": "subslide"
    }
   },
   "source": [
    "### Script for running FORTRAN code (OpenMP)"
   ]
  },
  {
   "cell_type": "code",
   "execution_count": null,
   "metadata": {
    "scrolled": false,
    "slideshow": {
     "slide_type": "-"
    }
   },
   "outputs": [],
   "source": [
    "#!/bin/bash\n",
    "\n",
    "# set the number of nodes and processes per node\n",
    "#PBS -q qmw12 -l select=1:ncpus=12\n",
    "\n",
    "# set name of job\n",
    "#PBS -N Fortran\n",
    "\n",
    "# OMP Environment Variable #\n",
    "export OMP_NUM_THREADS=12\n",
    "export OMP_THREAD_LIMIT=12\n",
    "\n",
    "# use submission environment\n",
    "#PBS -V\n",
    "\n",
    "# start job from the directory it was submitted\n",
    "cd $PBS_O_WORKDIR\n",
    "\n",
    "# compile the Fortran Source....\n",
    "echo \"Running gfortran on `hostname`: gfortran -fopenmp matrix_mult.f -o matrix_mult.exe\"\n",
    "gfortran -fopenmp matrix_mult.f -o matrix_mult.exe\n",
    "# run my_application over a compute node within the PBS ring (pbsnodes -av)\n",
    "echo \"Running line on `hostname`: ./matrix_mult.exe > 12_cores_output_file \"\n",
    "./matrix_mult.exe > 12_cores_output_file"
   ]
  },
  {
   "cell_type": "markdown",
   "metadata": {
    "slideshow": {
     "slide_type": "skip"
    }
   },
   "source": [
    "### Script for running FORTRAN code (MPI)"
   ]
  },
  {
   "cell_type": "code",
   "execution_count": null,
   "metadata": {
    "scrolled": false,
    "slideshow": {
     "slide_type": "skip"
    }
   },
   "outputs": [],
   "source": [
    "#!/bin/bash\n",
    "\n",
    "# set the number of nodes and processes per node\n",
    "#PBS -q qmw36\n",
    "\n",
    "# set name of job\n",
    "#PBS -N MPIFortran\n",
    "\n",
    "echo \"FORTRAN CODE EXECUTION WITH MPI EXTENSIONS\"\n",
    "echo \"\"\n",
    "##########################################################\n",
    "# Input File:dd\n",
    "export filename=mpi_bandwidth.f\n",
    "echo \"INPUT FILE: $filename\"\n",
    "##########################################################\n",
    "\n",
    "basename=${filename%\\.*}\n",
    "echo \"EXECUTABLE  FILE: ${basename}\"\n",
    "echo \"\"\n",
    "\n",
    "# use submission environment\n",
    "PBS -V\n",
    "\n",
    "##########################################################\n",
    "# Loads the latest version of GNU and OPENMPI Compilers\n",
    "##########################################################\n",
    "echo \"source /apps/Gnu_var_4.9.4.sh \" \n",
    "source /apps/Gnu_var_4.9.4.sh \n",
    "echo \"\"\n",
    "echo \" Compilers currently loaded \"\n",
    "gfortran --version\n",
    "echo \"\"\n",
    "echo \"source /apps/openmpi-1.8.8.sh\"\n",
    "source /apps/openmpi-1.8.8.sh \n",
    "echo \" openMPI Compilers currently loaded: \"\n",
    "mpif77 --showme\n",
    "##########################################################\n",
    "\n",
    "# start job from the directory it was submitted\n",
    "cd $PBS_O_WORKDIR\n",
    "\n",
    "# compile the Fortran Source Code using MPI wrapper/compiler\n",
    "echo \"Running compilation process on `hostname` with command line: mpif77 $filename -o ${basename}\"\n",
    "mpif77 $filename -o ${basename}\n",
    "\n",
    "# run my_application over a compute node within the PBS ring (pbsnodes -av)\n",
    "echo \"Running line on `hostname`: mpirun -np 36 ./${basename} > ${basename}.out \"\n",
    "mpirun -np 36 ./${basename} > ${basename}.out.blade\n",
    "\n",
    "# echo.\n",
    "echo \"\"\n",
    "echo \"MPI Job completed ok!\""
   ]
  },
  {
   "cell_type": "markdown",
   "metadata": {
    "slideshow": {
     "slide_type": "subslide"
    }
   },
   "source": [
    "### I would like to run R/STATA/Python...\n",
    "You can find many other PBS script samples on the cluster in `/share/apps`"
   ]
  },
  {
   "cell_type": "markdown",
   "metadata": {
    "slideshow": {
     "slide_type": "slide"
    }
   },
   "source": [
    "## Monitoring your job"
   ]
  },
  {
   "cell_type": "markdown",
   "metadata": {
    "slideshow": {
     "slide_type": "-"
    }
   },
   "source": [
    "<table align=\"center\">\n",
    "  <thead>\n",
    "    <tr>\n",
    "      <th>Command</th>\n",
    "      <th>What does it do?</th>\n",
    "    </tr>\n",
    "  </thead>\n",
    "  <tbody>\n",
    "    <tr>\n",
    "      <td><code>qstat</code></td>\n",
    "      <td>Shows the status of all the jobs</td>\n",
    "    </tr>\n",
    "    <tr>\n",
    "      <td><code>qstat -n1</code></td>\n",
    "      <td>Shows the status of all the jobs and their nodes</td>\n",
    "    </tr>\n",
    "    <tr>\n",
    "      <td><code>qstat -u [username]</code></td>\n",
    "      <td>Shows the status of the jobs belonging to [username]</td>\n",
    "    </tr>\n",
    "    <tr>\n",
    "      <td><code>qstat -f [jobid]</code></td>\n",
    "      <td>Shows the detailed information about [jobid]</td>\n",
    "    </tr>\n",
    "    <tr>\n",
    "      <td><code>qdel [jobid]</code></td>\n",
    "      <td>Delete the [jobid]</td>\n",
    "    </tr>\n",
    "    <tr>\n",
    "      <td><code>tail -f [output_file.log]</code></td>\n",
    "      <td>Prints the output file in the terminal as it is being written</td>\n",
    "    </tr>\n",
    "  </tbody>\n",
    "</table>"
   ]
  },
  {
   "cell_type": "markdown",
   "metadata": {
    "slideshow": {
     "slide_type": "slide"
    }
   },
   "source": [
    "## How is my code doing?"
   ]
  },
  {
   "cell_type": "markdown",
   "metadata": {
    "slideshow": {
     "slide_type": "-"
    }
   },
   "source": [
    "If you are not quite sure that your code is running nicely in parallel, you can log into the compute node and check the task manager `htop`.\n",
    "\n",
    "1. Find the node where your job is running using `qstat -u [username] -n1`.\n",
    "2. Log into the node `ssh [node name]`, for example `ssh matlabcl3`.\n",
    "3. Run `htop` to open the task manager\n",
    "4. Close the task manager by pressing <kbd>F11</kbd> \n",
    "5. Close the SSH connection by typing `exit`"
   ]
  },
  {
   "cell_type": "markdown",
   "metadata": {
    "slideshow": {
     "slide_type": "slide"
    }
   },
   "source": [
    "## How to use the cluster interactively?\n",
    "\n",
    "Using cluster interactively can be useful for developing your code or debugging.\n",
    "\n",
    "Add `-I` to the reqular `qsub` command. The following command will start an interactive job with the parameters specified in the `pbs_script`."
   ]
  },
  {
   "cell_type": "code",
   "execution_count": null,
   "metadata": {
    "scrolled": false,
    "slideshow": {
     "slide_type": "-"
    }
   },
   "outputs": [],
   "source": [
    "qsub -I pbs_script"
   ]
  },
  {
   "cell_type": "markdown",
   "metadata": {
    "slideshow": {
     "slide_type": "-"
    }
   },
   "source": [
    "You can start an interactive session without a PBS script."
   ]
  },
  {
   "cell_type": "code",
   "execution_count": null,
   "metadata": {
    "scrolled": false,
    "slideshow": {
     "slide_type": "-"
    }
   },
   "outputs": [],
   "source": [
    "qsub -I -N MyInteractiveJob -q qmw12 -l select=1:ncpus=12:host=matlabcl3"
   ]
  },
  {
   "cell_type": "markdown",
   "metadata": {
    "slideshow": {
     "slide_type": "skip"
    }
   },
   "source": [
    "## Graphical User Interface\n",
    "\n",
    "\n",
    "1.  Use **X-window** to display the program window\n",
    "2.  Set up **V**irtual **N**etwork **C**onnection (VNC)"
   ]
  }
 ],
 "metadata": {
  "celltoolbar": "Slideshow",
  "kernelspec": {
   "display_name": "Python 3",
   "language": "python",
   "name": "python3"
  },
  "language_info": {
   "codemirror_mode": {
    "name": "ipython",
    "version": 3
   },
   "file_extension": ".py",
   "mimetype": "text/x-python",
   "name": "python",
   "nbconvert_exporter": "python",
   "pygments_lexer": "ipython3",
   "version": "3.7.3"
  }
 },
 "nbformat": 4,
 "nbformat_minor": 4
}
